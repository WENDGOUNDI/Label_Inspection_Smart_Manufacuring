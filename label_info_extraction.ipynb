{
 "cells": [
  {
   "cell_type": "code",
   "execution_count": null,
   "id": "b949743f",
   "metadata": {},
   "outputs": [],
   "source": []
  },
  {
   "cell_type": "markdown",
   "id": "4e17d11e",
   "metadata": {},
   "source": [
    "## Load Libraries"
   ]
  },
  {
   "cell_type": "code",
   "execution_count": 6,
   "id": "a5ab811e",
   "metadata": {},
   "outputs": [],
   "source": [
    "import cv2\n",
    "import numpy\n",
    "import imutils\n",
    "import os\n",
    "import pickle\n",
    "\n",
    "import matplotlib.pyplot as plt\n",
    "from paddleocr import PaddleOCR\n",
    "ocr_model = PaddleOCR(lang='en', show_log=False, use_angle_cls=True, use_gpu=True, enable_mkldnn=True)\n"
   ]
  },
  {
   "cell_type": "markdown",
   "id": "d7d1ee1e",
   "metadata": {},
   "source": [
    "## Generate the Hexadecimal for Positive Samples"
   ]
  },
  {
   "cell_type": "code",
   "execution_count": 8,
   "id": "91fc3075",
   "metadata": {},
   "outputs": [
    {
     "name": "stdout",
     "output_type": "stream",
     "text": [
      " Generated 100 Product Numbers\n",
      "--DONE--!\n"
     ]
    }
   ],
   "source": [
    "# Each product should have a product number which represent it's ID.\n",
    "# Let's generate the product number for the label\n",
    "\n",
    "hex_start = int(\"73de94dc0fd\", 16) # Mac address first\n",
    "hex_last = int(\"73DE94DC160\", 16) # Mac address last\n",
    "\n",
    "hexa_list = list()\n",
    "for i in range(hex_start,hex_last+1):\n",
    "    hex_cal = hex(i).upper()\n",
    "    hex_cal = hex_cal[2:].upper()\n",
    "    #print(f\"deximal {i} with hex {hex_cal}\")\n",
    "    hexa_list.append(hex_cal)\n",
    "    \n",
    "print(f\" Generated {len(hexa_list)} Product Numbers\")\n",
    "print(\"--DONE--!\")"
   ]
  },
  {
   "cell_type": "markdown",
   "id": "5fa4bd50",
   "metadata": {},
   "source": [
    "## Generate the Hexadecimal for Negative Samples"
   ]
  },
  {
   "cell_type": "code",
   "execution_count": 11,
   "id": "37f12a46",
   "metadata": {},
   "outputs": [
    {
     "name": "stdout",
     "output_type": "stream",
     "text": [
      " Generated 17 Product Numbers\n",
      "--DONE--!\n"
     ]
    }
   ],
   "source": [
    "\n",
    "hex_start_n = int(\"73DE94DC166\", 16) # Mac address first\n",
    "hex_last_n = int(\"73DE94DC176\", 16) # Mac address last\n",
    "\n",
    "hexa_list_n = list()\n",
    "for j in range(hex_start_n,hex_last_n+1):\n",
    "    hex_cal_n = hex(j).upper()\n",
    "    hex_cal_n = hex_cal_n[2:].upper()\n",
    "    #print(f\"deximal {i} with hex {hex_cal}\")\n",
    "    hexa_list_n.append(hex_cal_n)\n",
    "    \n",
    "print(f\" Generated {len(hexa_list_n)} Product Numbers\")\n",
    "print(\"--DONE--!\")"
   ]
  },
  {
   "cell_type": "markdown",
   "id": "7e4d936f",
   "metadata": {},
   "source": [
    "## Save Positive Labels Product Numbers"
   ]
  },
  {
   "cell_type": "code",
   "execution_count": 5,
   "id": "f9273452",
   "metadata": {},
   "outputs": [],
   "source": [
    "## Save our Data in a pickle file\n",
    "import pickle\n",
    "\n",
    "data = {\"prod_numb\":hexa_list}\n",
    "\n",
    "with open(\"label_db.pickle\", \"wb\") as handle:\n",
    "    pickle.dump(data, handle, protocol=pickle.HIGHEST_PROTOCOL)"
   ]
  },
  {
   "cell_type": "markdown",
   "id": "7b522572",
   "metadata": {},
   "source": [
    "## Create our Positive Labels"
   ]
  },
  {
   "cell_type": "code",
   "execution_count": 10,
   "id": "b078694b",
   "metadata": {},
   "outputs": [],
   "source": [
    "# Create a label folder if does not exist\n",
    "label_folder = \"./positive_samples\"\n",
    "if not os.path.isdir(label_folder):\n",
    "    os.mkdir(label_folder)\n",
    "    \n",
    "for i in hexa_list:\n",
    "    image = cv2.imread(\"box_label_image.PNG\")\n",
    "    product_number = f\"Prod Number: {i}\"\n",
    "    image = cv2.putText(image, product_number,  (775,1012), cv2.FONT_HERSHEY_COMPLEX_SMALL, 1, (0,0,0), 2, cv2.LINE_AA)\n",
    "    label_name = f\"{label_folder}/label_{i}.png\"\n",
    "    cv2.imwrite(label_name, image)"
   ]
  },
  {
   "cell_type": "markdown",
   "id": "c34f5926",
   "metadata": {},
   "source": [
    "## Create our Negative Labels"
   ]
  },
  {
   "cell_type": "code",
   "execution_count": 12,
   "id": "252de7ca",
   "metadata": {},
   "outputs": [],
   "source": [
    "# Create a label folder if does not exist\n",
    "negative_samples_folder = \"./negative_samples\"\n",
    "if not os.path.isdir(negative_samples_folder):\n",
    "    os.mkdir(negative_samples_folder)\n",
    "    \n",
    "for i in hexa_list_n:\n",
    "    image = cv2.imread(\"Capture.PNG\")\n",
    "    product_number = f\"Prod Number: {i}\"\n",
    "    image = cv2.putText(image, product_number, (775,1012), cv2.FONT_HERSHEY_COMPLEX_SMALL, 1, (0,0,0), 2, cv2.LINE_AA)\n",
    "    label_name = f\"{negative_samples_folder}/label_{i}.png\"\n",
    "    cv2.imwrite(label_name, image)"
   ]
  },
  {
   "cell_type": "markdown",
   "id": "1b6c0297",
   "metadata": {},
   "source": [
    "## Inference"
   ]
  },
  {
   "cell_type": "code",
   "execution_count": 5,
   "id": "55991a68",
   "metadata": {},
   "outputs": [
    {
     "name": "stdout",
     "output_type": "stream",
     "text": [
      "The Product Number is 73DE94DC160\n",
      "The Product Number Exist in our Database\n"
     ]
    }
   ],
   "source": [
    "# Create a function to extract our product number\n",
    "def extract_prod_num(image):\n",
    "\n",
    "    result = ocr_model.ocr(image)\n",
    "    ocr_result = [line[1][0] for line in result[0]]\n",
    "    prod_num = [i for i in ocr_result if i.startswith(\"Prod \")]\n",
    "    prod_num = prod_num[0].split(\": \")[1]\n",
    "    return prod_num\n",
    "\n",
    "# define a function to verify the correctness of the extracted product number\n",
    "def verify_correctness(prod_num):\n",
    "    DB_file= open('label_db.pickle', 'rb')\n",
    "    DB_data = pickle.load(DB_file)\n",
    "    # close the file\n",
    "    DB_file.close()\n",
    "    \n",
    "    if prod_num in DB_data['prod_numb']:\n",
    "        return \"The Product Number Exist in our Database\"\n",
    "    else:\n",
    "        return \"The Product Number does not Exist in our Database\"\n",
    "    \n",
    "extracted_prod_num = extract_prod_num(\"./labels_folder/label_73DE94DC160.png\")\n",
    "print(f\"The Product Number is {extracted_prod_num}\")\n",
    "        \n",
    "final_result = verify_correctness(extracted_prod_num)\n",
    "print(final_result)\n"
   ]
  },
  {
   "cell_type": "code",
   "execution_count": null,
   "id": "d02c1a9e",
   "metadata": {},
   "outputs": [],
   "source": []
  },
  {
   "cell_type": "code",
   "execution_count": 6,
   "id": "bedd0b11",
   "metadata": {},
   "outputs": [
    {
     "data": {
      "text/plain": [
       "'The Product Number Exist in our Database'"
      ]
     },
     "execution_count": 6,
     "metadata": {},
     "output_type": "execute_result"
    }
   ],
   "source": []
  },
  {
   "cell_type": "code",
   "execution_count": null,
   "id": "de73f3dd",
   "metadata": {},
   "outputs": [],
   "source": []
  },
  {
   "cell_type": "markdown",
   "id": "1833f2f7",
   "metadata": {},
   "source": [
    "# UTILITIES"
   ]
  },
  {
   "cell_type": "markdown",
   "id": "c269eb72",
   "metadata": {},
   "source": [
    "## Get Coordinates"
   ]
  },
  {
   "cell_type": "code",
   "execution_count": null,
   "id": "f8e8f905",
   "metadata": {},
   "outputs": [
    {
     "name": "stdout",
     "output_type": "stream",
     "text": [
      "(775,959)\n",
      "(1304,957)\n",
      "(1307,1017)\n",
      "(771,1012)\n"
     ]
    }
   ],
   "source": [
    "# import the required library\n",
    "import cv2\n",
    "\n",
    "# define a function to display the coordinates of\n",
    "\n",
    "# of the points clicked on the image\n",
    "def click_event(event, x, y, flags, params):\n",
    "    if event == cv2.EVENT_LBUTTONDOWN:\n",
    "        print(f'({x},{y})')\n",
    "      \n",
    "        # put coordinates as text on the image\n",
    "        cv2.putText(img, f'({x},{y})',(x,y),\n",
    "        cv2.FONT_HERSHEY_SIMPLEX, 1, (0, 0, 255), 2)\n",
    "      \n",
    "      # draw point on the image\n",
    "        cv2.circle(img, (x,y), 3, (0,255,255), -1)\n",
    " \n",
    "# read the input image\n",
    "#img = cv2.imread('image_size.png')\n",
    "img = cv2.imread(\"C:/Users/savadogo_abdoul/Desktop/Learn/box_data/Capture.PNG\")\n",
    "#img = cv2.resize(image, (640, 480))\n",
    "\n",
    "# create a window\n",
    "cv2.namedWindow('Point Coordinates')\n",
    "\n",
    "# bind the callback function to window\n",
    "cv2.setMouseCallback('Point Coordinates', click_event)\n",
    "\n",
    "# display the image\n",
    "while True:\n",
    "    cv2.imshow('Point Coordinates',img)\n",
    "    k = cv2.waitKey(1) & 0xFF\n",
    "    if k == 27:\n",
    "        break\n",
    "cv2.destroyAllWindows()"
   ]
  },
  {
   "cell_type": "code",
   "execution_count": null,
   "id": "b817bf67",
   "metadata": {},
   "outputs": [],
   "source": []
  }
 ],
 "metadata": {
  "kernelspec": {
   "display_name": "Python 3 (ipykernel)",
   "language": "python",
   "name": "python3"
  },
  "language_info": {
   "codemirror_mode": {
    "name": "ipython",
    "version": 3
   },
   "file_extension": ".py",
   "mimetype": "text/x-python",
   "name": "python",
   "nbconvert_exporter": "python",
   "pygments_lexer": "ipython3",
   "version": "3.7.16"
  }
 },
 "nbformat": 4,
 "nbformat_minor": 5
}
